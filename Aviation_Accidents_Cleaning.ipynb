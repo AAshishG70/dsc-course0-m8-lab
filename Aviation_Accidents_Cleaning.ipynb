{
 "cells": [
  {
   "cell_type": "markdown",
   "id": "d7485d62",
   "metadata": {},
   "source": [
    "# Aviation Accidents Analysis\n",
    "\n",
    "You are part of a consulting firm that is tasked to do an analysis of commercial and passenger jet airline safety. The client (an airline/airplane insurer) is interested in knowing what types of aircraft (makes/models) exhibit low rates of total destruction and low likelihood of fatal or serious passenger injuries in the event of an accident. They are also interested in any general variables/conditions that might be at play. Your analysis will be based off of aviation accident data accumulated from the years 1948-2023. \n",
    "\n",
    "Our client is only interested in airplane makes/models that are professional builds and could potentially still be active. Assume a max lifetime of 40 years for a make/model retirement and make sure to filter your data accordingly (i.e. from 1983 onwards). They would also like separate recommendations for small aircraft vs. larger passenger models. **In addition, make sure that claims that you make are statistically robust and that you have enough samples when making comparisons between groups.**\n",
    "\n",
    "\n",
    "In this summative assessment you will demonstrate your ability to:\n",
    "- **Use Pandas to load, inspect, and clean the dataset appropriately.**\n",
    "- **Transform relevant columns to create measures that address the problem at hand.**\n",
    "- conduct EDA: visualization and statistical measures to systematically understand the structure of the data\n",
    "- recommend a set of airplanes and makes conforming to the client's request and identify at least *two* factors contributing to airplane safety. You must provide supporting evidence (visuals, summary statistics, tables) for each claim you make."
   ]
  },
  {
   "cell_type": "markdown",
   "id": "73e582c5",
   "metadata": {},
   "source": [
    "### Make relevant library imports"
   ]
  },
  {
   "cell_type": "code",
   "execution_count": 337,
   "id": "a72188a8",
   "metadata": {},
   "outputs": [],
   "source": [
    "import pandas as pd\n",
    "import numpy as np\n",
    "import matplotlib.pyplot as plt\n",
    "import seaborn as sns"
   ]
  },
  {
   "cell_type": "markdown",
   "id": "5b1fc321",
   "metadata": {},
   "source": [
    "## Data Loading and Inspection"
   ]
  },
  {
   "cell_type": "markdown",
   "id": "57becc28",
   "metadata": {},
   "source": [
    "### Load in data from the relevant directory and inspect the dataframe.\n",
    "- inspect NaNs, datatypes, and summary statistics"
   ]
  },
  {
   "cell_type": "markdown",
   "id": "fb3d71c6-7a3d-4bf3-96c0-dd39ce909e99",
   "metadata": {},
   "source": [
    "### General Overview of the dataset\n",
    "- Using .info() to look into the columns and the values for our data"
   ]
  },
  {
   "cell_type": "code",
   "execution_count": 338,
   "id": "85235fa7",
   "metadata": {},
   "outputs": [
    {
     "name": "stdout",
     "output_type": "stream",
     "text": [
      "<class 'pandas.core.frame.DataFrame'>\n",
      "RangeIndex: 88889 entries, 0 to 88888\n",
      "Data columns (total 31 columns):\n",
      " #   Column                  Non-Null Count  Dtype  \n",
      "---  ------                  --------------  -----  \n",
      " 0   Event.Id                88889 non-null  object \n",
      " 1   Investigation.Type      88889 non-null  object \n",
      " 2   Accident.Number         88889 non-null  object \n",
      " 3   Event.Date              88889 non-null  object \n",
      " 4   Location                88837 non-null  object \n",
      " 5   Country                 88663 non-null  object \n",
      " 6   Latitude                34382 non-null  object \n",
      " 7   Longitude               34373 non-null  object \n",
      " 8   Airport.Code            50132 non-null  object \n",
      " 9   Airport.Name            52704 non-null  object \n",
      " 10  Injury.Severity         87889 non-null  object \n",
      " 11  Aircraft.damage         85695 non-null  object \n",
      " 12  Aircraft.Category       32287 non-null  object \n",
      " 13  Registration.Number     87507 non-null  object \n",
      " 14  Make                    88826 non-null  object \n",
      " 15  Model                   88797 non-null  object \n",
      " 16  Amateur.Built           88787 non-null  object \n",
      " 17  Number.of.Engines       82805 non-null  float64\n",
      " 18  Engine.Type             81793 non-null  object \n",
      " 19  FAR.Description         32023 non-null  object \n",
      " 20  Schedule                12582 non-null  object \n",
      " 21  Purpose.of.flight       82697 non-null  object \n",
      " 22  Air.carrier             16648 non-null  object \n",
      " 23  Total.Fatal.Injuries    77488 non-null  float64\n",
      " 24  Total.Serious.Injuries  76379 non-null  float64\n",
      " 25  Total.Minor.Injuries    76956 non-null  float64\n",
      " 26  Total.Uninjured         82977 non-null  float64\n",
      " 27  Weather.Condition       84397 non-null  object \n",
      " 28  Broad.phase.of.flight   61724 non-null  object \n",
      " 29  Report.Status           82505 non-null  object \n",
      " 30  Publication.Date        75118 non-null  object \n",
      "dtypes: float64(5), object(26)\n",
      "memory usage: 21.0+ MB\n"
     ]
    }
   ],
   "source": [
    "aviation_df = pd.read_csv('data/AviationData.csv', encoding = 'latin-1', low_memory = False)\n",
    "aviation_df.info()"
   ]
  },
  {
   "cell_type": "code",
   "execution_count": 339,
   "id": "f73eda7e-e366-45aa-9124-56fab042a317",
   "metadata": {
    "scrolled": true
   },
   "outputs": [
    {
     "data": {
      "text/html": [
       "<div>\n",
       "<style scoped>\n",
       "    .dataframe tbody tr th:only-of-type {\n",
       "        vertical-align: middle;\n",
       "    }\n",
       "\n",
       "    .dataframe tbody tr th {\n",
       "        vertical-align: top;\n",
       "    }\n",
       "\n",
       "    .dataframe thead th {\n",
       "        text-align: right;\n",
       "    }\n",
       "</style>\n",
       "<table border=\"1\" class=\"dataframe\">\n",
       "  <thead>\n",
       "    <tr style=\"text-align: right;\">\n",
       "      <th></th>\n",
       "      <th>Event.Id</th>\n",
       "      <th>Investigation.Type</th>\n",
       "      <th>Accident.Number</th>\n",
       "      <th>Event.Date</th>\n",
       "      <th>Location</th>\n",
       "      <th>Country</th>\n",
       "      <th>Latitude</th>\n",
       "      <th>Longitude</th>\n",
       "      <th>Airport.Code</th>\n",
       "      <th>Airport.Name</th>\n",
       "      <th>...</th>\n",
       "      <th>Amateur.Built</th>\n",
       "      <th>Engine.Type</th>\n",
       "      <th>FAR.Description</th>\n",
       "      <th>Schedule</th>\n",
       "      <th>Purpose.of.flight</th>\n",
       "      <th>Air.carrier</th>\n",
       "      <th>Weather.Condition</th>\n",
       "      <th>Broad.phase.of.flight</th>\n",
       "      <th>Report.Status</th>\n",
       "      <th>Publication.Date</th>\n",
       "    </tr>\n",
       "  </thead>\n",
       "  <tbody>\n",
       "    <tr>\n",
       "      <th>count</th>\n",
       "      <td>88889</td>\n",
       "      <td>88889</td>\n",
       "      <td>88889</td>\n",
       "      <td>88889</td>\n",
       "      <td>88837</td>\n",
       "      <td>88663</td>\n",
       "      <td>34382</td>\n",
       "      <td>34373</td>\n",
       "      <td>50132</td>\n",
       "      <td>52704</td>\n",
       "      <td>...</td>\n",
       "      <td>88787</td>\n",
       "      <td>81793</td>\n",
       "      <td>32023</td>\n",
       "      <td>12582</td>\n",
       "      <td>82697</td>\n",
       "      <td>16648</td>\n",
       "      <td>84397</td>\n",
       "      <td>61724</td>\n",
       "      <td>82505</td>\n",
       "      <td>75118</td>\n",
       "    </tr>\n",
       "    <tr>\n",
       "      <th>unique</th>\n",
       "      <td>87951</td>\n",
       "      <td>2</td>\n",
       "      <td>88863</td>\n",
       "      <td>14782</td>\n",
       "      <td>27758</td>\n",
       "      <td>219</td>\n",
       "      <td>25589</td>\n",
       "      <td>27154</td>\n",
       "      <td>10374</td>\n",
       "      <td>24870</td>\n",
       "      <td>...</td>\n",
       "      <td>2</td>\n",
       "      <td>12</td>\n",
       "      <td>31</td>\n",
       "      <td>3</td>\n",
       "      <td>26</td>\n",
       "      <td>13590</td>\n",
       "      <td>4</td>\n",
       "      <td>12</td>\n",
       "      <td>17074</td>\n",
       "      <td>2924</td>\n",
       "    </tr>\n",
       "    <tr>\n",
       "      <th>top</th>\n",
       "      <td>20001212X19172</td>\n",
       "      <td>Accident</td>\n",
       "      <td>CEN22LA149</td>\n",
       "      <td>1984-06-30</td>\n",
       "      <td>ANCHORAGE, AK</td>\n",
       "      <td>United States</td>\n",
       "      <td>332739N</td>\n",
       "      <td>0112457W</td>\n",
       "      <td>NONE</td>\n",
       "      <td>Private</td>\n",
       "      <td>...</td>\n",
       "      <td>No</td>\n",
       "      <td>Reciprocating</td>\n",
       "      <td>091</td>\n",
       "      <td>NSCH</td>\n",
       "      <td>Personal</td>\n",
       "      <td>Pilot</td>\n",
       "      <td>VMC</td>\n",
       "      <td>Landing</td>\n",
       "      <td>Probable Cause</td>\n",
       "      <td>25-09-2020</td>\n",
       "    </tr>\n",
       "    <tr>\n",
       "      <th>freq</th>\n",
       "      <td>3</td>\n",
       "      <td>85015</td>\n",
       "      <td>2</td>\n",
       "      <td>25</td>\n",
       "      <td>434</td>\n",
       "      <td>82248</td>\n",
       "      <td>19</td>\n",
       "      <td>24</td>\n",
       "      <td>1488</td>\n",
       "      <td>240</td>\n",
       "      <td>...</td>\n",
       "      <td>80312</td>\n",
       "      <td>69530</td>\n",
       "      <td>18221</td>\n",
       "      <td>4474</td>\n",
       "      <td>49448</td>\n",
       "      <td>258</td>\n",
       "      <td>77303</td>\n",
       "      <td>15428</td>\n",
       "      <td>61754</td>\n",
       "      <td>17019</td>\n",
       "    </tr>\n",
       "  </tbody>\n",
       "</table>\n",
       "<p>4 rows × 26 columns</p>\n",
       "</div>"
      ],
      "text/plain": [
       "              Event.Id Investigation.Type Accident.Number  Event.Date  \\\n",
       "count            88889              88889           88889       88889   \n",
       "unique           87951                  2           88863       14782   \n",
       "top     20001212X19172           Accident      CEN22LA149  1984-06-30   \n",
       "freq                 3              85015               2          25   \n",
       "\n",
       "             Location        Country Latitude Longitude Airport.Code  \\\n",
       "count           88837          88663    34382     34373        50132   \n",
       "unique          27758            219    25589     27154        10374   \n",
       "top     ANCHORAGE, AK  United States  332739N  0112457W         NONE   \n",
       "freq              434          82248       19        24         1488   \n",
       "\n",
       "       Airport.Name  ... Amateur.Built    Engine.Type FAR.Description  \\\n",
       "count         52704  ...         88787          81793           32023   \n",
       "unique        24870  ...             2             12              31   \n",
       "top         Private  ...            No  Reciprocating             091   \n",
       "freq            240  ...         80312          69530           18221   \n",
       "\n",
       "       Schedule Purpose.of.flight Air.carrier Weather.Condition  \\\n",
       "count     12582             82697       16648             84397   \n",
       "unique        3                26       13590                 4   \n",
       "top        NSCH          Personal       Pilot               VMC   \n",
       "freq       4474             49448         258             77303   \n",
       "\n",
       "       Broad.phase.of.flight   Report.Status Publication.Date  \n",
       "count                  61724           82505            75118  \n",
       "unique                    12           17074             2924  \n",
       "top                  Landing  Probable Cause       25-09-2020  \n",
       "freq                   15428           61754            17019  \n",
       "\n",
       "[4 rows x 26 columns]"
      ]
     },
     "execution_count": 339,
     "metadata": {},
     "output_type": "execute_result"
    }
   ],
   "source": [
    "aviation_df.describe(include = 'object')"
   ]
  },
  {
   "cell_type": "markdown",
   "id": "2e9b8cc7",
   "metadata": {},
   "source": [
    "## Data Cleaning"
   ]
  },
  {
   "cell_type": "markdown",
   "id": "c23efd78",
   "metadata": {},
   "source": [
    "### Filtering aircrafts and events"
   ]
  },
  {
   "cell_type": "markdown",
   "id": "9c399343",
   "metadata": {},
   "source": [
    "We want to filter the dataset to include aircraft that the client is interested in an analysis of:\n",
    "- inspect relevant columns\n",
    "- figure out any reasonable imputations\n",
    "- filter the dataset"
   ]
  },
  {
   "cell_type": "code",
   "execution_count": 340,
   "id": "5a2b7eab",
   "metadata": {},
   "outputs": [
    {
     "data": {
      "text/plain": [
       "Amateur.Built\n",
       "No     80312\n",
       "Yes     8475\n",
       "Name: count, dtype: int64"
      ]
     },
     "execution_count": 340,
     "metadata": {},
     "output_type": "execute_result"
    }
   ],
   "source": [
    "#Total Counts for the amateur and professional builds of the aircraft.\n",
    "\n",
    "aviation_df['Amateur.Built'].value_counts()"
   ]
  },
  {
   "cell_type": "code",
   "execution_count": 341,
   "id": "4f245455-a955-4069-af8a-6d5e4d1251e8",
   "metadata": {},
   "outputs": [
    {
     "data": {
      "text/plain": [
       "56602"
      ]
     },
     "execution_count": 341,
     "metadata": {},
     "output_type": "execute_result"
    }
   ],
   "source": [
    "#Count of NaNs within the Aircraft.Category\n",
    "\n",
    "aviation_df['Aircraft.Category'].isna().sum()"
   ]
  },
  {
   "cell_type": "code",
   "execution_count": 342,
   "id": "956871f9-aeeb-4759-9f46-d614b346503d",
   "metadata": {},
   "outputs": [
    {
     "data": {
      "text/plain": [
       "32287"
      ]
     },
     "execution_count": 342,
     "metadata": {},
     "output_type": "execute_result"
    }
   ],
   "source": [
    "#Count of not NaNs within the Aircraft.Category\n",
    "\n",
    "aviation_df['Aircraft.Category'].notna().sum()"
   ]
  },
  {
   "cell_type": "code",
   "execution_count": 343,
   "id": "a33a627a-7528-4b19-96cd-f29b0ff492c9",
   "metadata": {},
   "outputs": [
    {
     "data": {
      "text/plain": [
       "Aircraft.Category\n",
       "Airplane             27617\n",
       "Helicopter            3440\n",
       "Glider                 508\n",
       "Balloon                231\n",
       "Gyrocraft              173\n",
       "Weight-Shift           161\n",
       "Powered Parachute       91\n",
       "Ultralight              30\n",
       "Unknown                 14\n",
       "WSFT                     9\n",
       "Powered-Lift             5\n",
       "Blimp                    4\n",
       "UNK                      2\n",
       "Rocket                   1\n",
       "ULTR                     1\n",
       "Name: count, dtype: int64"
      ]
     },
     "execution_count": 343,
     "metadata": {},
     "output_type": "execute_result"
    }
   ],
   "source": [
    "#Counts of all the aircraft categories\n",
    "\n",
    "aviation_df['Aircraft.Category'].value_counts()"
   ]
  },
  {
   "cell_type": "code",
   "execution_count": 344,
   "id": "34557700-e6ae-406b-95fc-a51c1df1353c",
   "metadata": {},
   "outputs": [
    {
     "data": {
      "text/plain": [
       "Event.Id                  85289\n",
       "Investigation.Type        85289\n",
       "Accident.Number           85289\n",
       "Event.Date                85289\n",
       "Location                  85237\n",
       "Country                   85073\n",
       "Latitude                  34379\n",
       "Longitude                 34370\n",
       "Airport.Code              48435\n",
       "Airport.Name              50514\n",
       "Injury.Severity           84289\n",
       "Aircraft.damage           82151\n",
       "Aircraft.Category         28723\n",
       "Registration.Number       83907\n",
       "Make                      85232\n",
       "Model                     85211\n",
       "Amateur.Built             85188\n",
       "Number.of.Engines         79206\n",
       "Engine.Type               78194\n",
       "FAR.Description           28459\n",
       "Schedule                  12045\n",
       "Purpose.of.flight         79102\n",
       "Air.carrier               16413\n",
       "Total.Fatal.Injuries      73913\n",
       "Total.Serious.Injuries    72808\n",
       "Total.Minor.Injuries      73384\n",
       "Total.Uninjured           79386\n",
       "Weather.Condition         80798\n",
       "Broad.phase.of.flight     58126\n",
       "Report.Status             78905\n",
       "Publication.Date          71520\n",
       "dtype: int64"
      ]
     },
     "execution_count": 344,
     "metadata": {},
     "output_type": "execute_result"
    }
   ],
   "source": [
    "aviation_df[aviation_df['Event.Date'] >= '1983'].count()"
   ]
  },
  {
   "cell_type": "code",
   "execution_count": 345,
   "id": "c1cb763e-156e-4edd-8c9d-6d0774c9772c",
   "metadata": {},
   "outputs": [
    {
     "data": {
      "text/html": [
       "<div>\n",
       "<style scoped>\n",
       "    .dataframe tbody tr th:only-of-type {\n",
       "        vertical-align: middle;\n",
       "    }\n",
       "\n",
       "    .dataframe tbody tr th {\n",
       "        vertical-align: top;\n",
       "    }\n",
       "\n",
       "    .dataframe thead th {\n",
       "        text-align: right;\n",
       "    }\n",
       "</style>\n",
       "<table border=\"1\" class=\"dataframe\">\n",
       "  <thead>\n",
       "    <tr style=\"text-align: right;\">\n",
       "      <th></th>\n",
       "      <th>Make</th>\n",
       "      <th>Aircraft.Category</th>\n",
       "    </tr>\n",
       "  </thead>\n",
       "  <tbody>\n",
       "    <tr>\n",
       "      <th>0</th>\n",
       "      <td>Stinson</td>\n",
       "      <td>NaN</td>\n",
       "    </tr>\n",
       "    <tr>\n",
       "      <th>1</th>\n",
       "      <td>Piper</td>\n",
       "      <td>NaN</td>\n",
       "    </tr>\n",
       "    <tr>\n",
       "      <th>2</th>\n",
       "      <td>Cessna</td>\n",
       "      <td>NaN</td>\n",
       "    </tr>\n",
       "    <tr>\n",
       "      <th>3</th>\n",
       "      <td>Rockwell</td>\n",
       "      <td>NaN</td>\n",
       "    </tr>\n",
       "    <tr>\n",
       "      <th>4</th>\n",
       "      <td>Cessna</td>\n",
       "      <td>NaN</td>\n",
       "    </tr>\n",
       "  </tbody>\n",
       "</table>\n",
       "</div>"
      ],
      "text/plain": [
       "       Make Aircraft.Category\n",
       "0   Stinson               NaN\n",
       "1     Piper               NaN\n",
       "2    Cessna               NaN\n",
       "3  Rockwell               NaN\n",
       "4    Cessna               NaN"
      ]
     },
     "execution_count": 345,
     "metadata": {},
     "output_type": "execute_result"
    }
   ],
   "source": [
    "aviation_df.head()[['Make', 'Aircraft.Category']]"
   ]
  },
  {
   "cell_type": "markdown",
   "id": "dd177c81-e85c-41b9-953f-7ec4a3790f71",
   "metadata": {},
   "source": [
    "### Filtering aircraft categories\n",
    "- Figuring out the unique values within the aircraft category type\n",
    "- Filling the missing values (i.e.NaNs) with 'Airplane'"
   ]
  },
  {
   "cell_type": "code",
   "execution_count": 346,
   "id": "14f016e2-32e0-4bfb-9532-27dc88db9fb9",
   "metadata": {},
   "outputs": [
    {
     "data": {
      "text/plain": [
       "array([nan, 'Airplane', 'Helicopter', 'Glider', 'Balloon', 'Gyrocraft',\n",
       "       'Ultralight', 'Unknown', 'Blimp', 'Powered-Lift', 'Weight-Shift',\n",
       "       'Powered Parachute', 'Rocket', 'WSFT', 'UNK', 'ULTR'], dtype=object)"
      ]
     },
     "execution_count": 346,
     "metadata": {},
     "output_type": "execute_result"
    }
   ],
   "source": [
    "#Unique values within the aircraft category\n",
    "aviation_df['Aircraft.Category'].unique()\n"
   ]
  },
  {
   "cell_type": "code",
   "execution_count": 347,
   "id": "818a53e3-2287-4d4b-abc5-e47f2410cc24",
   "metadata": {},
   "outputs": [
    {
     "name": "stderr",
     "output_type": "stream",
     "text": [
      "C:\\Users\\Aashi\\AppData\\Local\\Temp\\ipykernel_26876\\3354989535.py:1: FutureWarning: A value is trying to be set on a copy of a DataFrame or Series through chained assignment using an inplace method.\n",
      "The behavior will change in pandas 3.0. This inplace method will never work because the intermediate object on which we are setting values always behaves as a copy.\n",
      "\n",
      "For example, when doing 'df[col].method(value, inplace=True)', try using 'df.method({col: value}, inplace=True)' or df[col] = df[col].method(value) instead, to perform the operation inplace on the original object.\n",
      "\n",
      "\n",
      "  aviation_df['Aircraft.Category'].fillna('Airplane', inplace = True)\n"
     ]
    },
    {
     "data": {
      "text/plain": [
       "Aircraft.Category\n",
       "Airplane             84219\n",
       "Helicopter            3440\n",
       "Glider                 508\n",
       "Balloon                231\n",
       "Gyrocraft              173\n",
       "Weight-Shift           161\n",
       "Powered Parachute       91\n",
       "Ultralight              30\n",
       "Unknown                 14\n",
       "WSFT                     9\n",
       "Powered-Lift             5\n",
       "Blimp                    4\n",
       "UNK                      2\n",
       "Rocket                   1\n",
       "ULTR                     1\n",
       "Name: count, dtype: int64"
      ]
     },
     "execution_count": 347,
     "metadata": {},
     "output_type": "execute_result"
    }
   ],
   "source": [
    "aviation_df['Aircraft.Category'].fillna('Airplane', inplace = True)\n",
    "aviation_df['Aircraft.Category'].value_counts()"
   ]
  },
  {
   "cell_type": "code",
   "execution_count": 348,
   "id": "4142a3d7-9b39-41dd-a22d-b29551e468e7",
   "metadata": {},
   "outputs": [
    {
     "name": "stdout",
     "output_type": "stream",
     "text": [
      "<class 'pandas.core.frame.DataFrame'>\n",
      "Index: 84219 entries, 0 to 88888\n",
      "Data columns (total 31 columns):\n",
      " #   Column                  Non-Null Count  Dtype  \n",
      "---  ------                  --------------  -----  \n",
      " 0   Event.Id                84219 non-null  object \n",
      " 1   Investigation.Type      84219 non-null  object \n",
      " 2   Accident.Number         84219 non-null  object \n",
      " 3   Event.Date              84219 non-null  object \n",
      " 4   Location                84169 non-null  object \n",
      " 5   Country                 83998 non-null  object \n",
      " 6   Latitude                30507 non-null  object \n",
      " 7   Longitude               30499 non-null  object \n",
      " 8   Airport.Code            48307 non-null  object \n",
      " 9   Airport.Name            50802 non-null  object \n",
      " 10  Injury.Severity         83289 non-null  object \n",
      " 11  Aircraft.damage         81201 non-null  object \n",
      " 12  Aircraft.Category       84219 non-null  object \n",
      " 13  Registration.Number     82888 non-null  object \n",
      " 14  Make                    84159 non-null  object \n",
      " 15  Model                   84129 non-null  object \n",
      " 16  Amateur.Built           84119 non-null  object \n",
      " 17  Number.of.Engines       78838 non-null  float64\n",
      " 18  Engine.Type             78456 non-null  object \n",
      " 19  FAR.Description         27462 non-null  object \n",
      " 20  Schedule                12084 non-null  object \n",
      " 21  Purpose.of.flight       78736 non-null  object \n",
      " 22  Air.carrier             14290 non-null  object \n",
      " 23  Total.Fatal.Injuries    73364 non-null  float64\n",
      " 24  Total.Serious.Injuries  72205 non-null  float64\n",
      " 25  Total.Minor.Injuries    72740 non-null  float64\n",
      " 26  Total.Uninjured         78487 non-null  float64\n",
      " 27  Weather.Condition       80337 non-null  object \n",
      " 28  Broad.phase.of.flight   60754 non-null  object \n",
      " 29  Report.Status           78825 non-null  object \n",
      " 30  Publication.Date        70638 non-null  object \n",
      "dtypes: float64(5), object(26)\n",
      "memory usage: 20.6+ MB\n"
     ]
    }
   ],
   "source": [
    "#Filtering out dataframe with just the airplane data as the aircraft category\n",
    "\n",
    "airplane_df = aviation_df[aviation_df['Aircraft.Category'] == 'Airplane']\n",
    "airplane_df.info()"
   ]
  },
  {
   "cell_type": "markdown",
   "id": "639f7d0b-0245-4a0b-8955-70a72b85b711",
   "metadata": {},
   "source": [
    "### Filtering out the airplane makes/models that are professional builds\n",
    "- First, Look into the values and thier counts within the Amateur.Built\n",
    "- Filter out the data with the Amateur.Built == 'No'"
   ]
  },
  {
   "cell_type": "code",
   "execution_count": 349,
   "id": "164a6966-6491-4444-95fc-147cdaddc156",
   "metadata": {},
   "outputs": [
    {
     "data": {
      "text/plain": [
       "Amateur.Built\n",
       "No     76008\n",
       "Yes     8111\n",
       "Name: count, dtype: int64"
      ]
     },
     "execution_count": 349,
     "metadata": {},
     "output_type": "execute_result"
    }
   ],
   "source": [
    "airplane_df['Amateur.Built'].value_counts()"
   ]
  },
  {
   "cell_type": "code",
   "execution_count": 350,
   "id": "6178e468-7e1a-4378-882a-90d7893da35f",
   "metadata": {},
   "outputs": [
    {
     "name": "stdout",
     "output_type": "stream",
     "text": [
      "<class 'pandas.core.frame.DataFrame'>\n",
      "Index: 76008 entries, 0 to 88888\n",
      "Data columns (total 31 columns):\n",
      " #   Column                  Non-Null Count  Dtype  \n",
      "---  ------                  --------------  -----  \n",
      " 0   Event.Id                76008 non-null  object \n",
      " 1   Investigation.Type      76008 non-null  object \n",
      " 2   Accident.Number         76008 non-null  object \n",
      " 3   Event.Date              76008 non-null  object \n",
      " 4   Location                75962 non-null  object \n",
      " 5   Country                 75793 non-null  object \n",
      " 6   Latitude                26610 non-null  object \n",
      " 7   Longitude               26605 non-null  object \n",
      " 8   Airport.Code            43344 non-null  object \n",
      " 9   Airport.Name            45641 non-null  object \n",
      " 10  Injury.Severity         75079 non-null  object \n",
      " 11  Aircraft.damage         73037 non-null  object \n",
      " 12  Aircraft.Category       76008 non-null  object \n",
      " 13  Registration.Number     74824 non-null  object \n",
      " 14  Make                    75963 non-null  object \n",
      " 15  Model                   75941 non-null  object \n",
      " 16  Amateur.Built           76008 non-null  object \n",
      " 17  Number.of.Engines       70984 non-null  float64\n",
      " 18  Engine.Type             70611 non-null  object \n",
      " 19  FAR.Description         24278 non-null  object \n",
      " 20  Schedule                11785 non-null  object \n",
      " 21  Purpose.of.flight       70637 non-null  object \n",
      " 22  Air.carrier             13370 non-null  object \n",
      " 23  Total.Fatal.Injuries    66350 non-null  float64\n",
      " 24  Total.Serious.Injuries  65376 non-null  float64\n",
      " 25  Total.Minor.Injuries    65867 non-null  float64\n",
      " 26  Total.Uninjured         71286 non-null  float64\n",
      " 27  Weather.Condition       72253 non-null  object \n",
      " 28  Broad.phase.of.flight   55265 non-null  object \n",
      " 29  Report.Status           70924 non-null  object \n",
      " 30  Publication.Date        63346 non-null  object \n",
      "dtypes: float64(5), object(26)\n",
      "memory usage: 18.6+ MB\n"
     ]
    }
   ],
   "source": [
    "#Filtering out the airplanes with professional builds\n",
    "\n",
    "airplane_df = airplane_df[airplane_df['Amateur.Built'] == 'No']\n",
    "airplane_df.info()"
   ]
  },
  {
   "cell_type": "markdown",
   "id": "cd94837b-645b-4220-880e-ce4e2aca9eed",
   "metadata": {},
   "source": [
    "### Dropping the NaNs within the subset Publication.Date as we can't inpute this data"
   ]
  },
  {
   "cell_type": "code",
   "execution_count": 351,
   "id": "6bde6c26-5c6f-4590-a3e5-34f86d4e70a7",
   "metadata": {
    "scrolled": true
   },
   "outputs": [
    {
     "data": {
      "text/plain": [
       "0"
      ]
     },
     "execution_count": 351,
     "metadata": {},
     "output_type": "execute_result"
    }
   ],
   "source": [
    "#All the NaNs should be dropped from the Publication.Date resulting in the sum of 0 NaNs.\n",
    "\n",
    "airplane_df = airplane_df.dropna(subset = ['Publication.Date'])\n",
    "airplane_df['Publication.Date'].isna().sum()"
   ]
  },
  {
   "cell_type": "code",
   "execution_count": 352,
   "id": "2b69951d-f733-4ded-bc18-ac4c16555e65",
   "metadata": {},
   "outputs": [
    {
     "data": {
      "text/plain": [
       "array(['19-09-1996', '26-02-2007', '12-09-2000', ..., '22-12-2022',\n",
       "       '23-12-2022', '29-12-2022'], dtype=object)"
      ]
     },
     "execution_count": 352,
     "metadata": {},
     "output_type": "execute_result"
    }
   ],
   "source": [
    "airplane_df['Publication.Date'].unique()\n"
   ]
  },
  {
   "cell_type": "markdown",
   "id": "399b61fd-74f7-46d9-a84d-c00b614c5a22",
   "metadata": {},
   "source": [
    "### Event.Date\n",
    "- Filter your data to include the airplanes from 1983 onwards.\n",
    "- Assume a max lifetime of 40 years for a make/model retirement."
   ]
  },
  {
   "cell_type": "code",
   "execution_count": 353,
   "id": "83d2523d-08fa-4007-9099-85280766cbe0",
   "metadata": {},
   "outputs": [
    {
     "data": {
      "text/html": [
       "<div>\n",
       "<style scoped>\n",
       "    .dataframe tbody tr th:only-of-type {\n",
       "        vertical-align: middle;\n",
       "    }\n",
       "\n",
       "    .dataframe tbody tr th {\n",
       "        vertical-align: top;\n",
       "    }\n",
       "\n",
       "    .dataframe thead th {\n",
       "        text-align: right;\n",
       "    }\n",
       "</style>\n",
       "<table border=\"1\" class=\"dataframe\">\n",
       "  <thead>\n",
       "    <tr style=\"text-align: right;\">\n",
       "      <th></th>\n",
       "      <th>Event.Id</th>\n",
       "      <th>Investigation.Type</th>\n",
       "      <th>Accident.Number</th>\n",
       "      <th>Event.Date</th>\n",
       "      <th>Location</th>\n",
       "      <th>Country</th>\n",
       "      <th>Latitude</th>\n",
       "      <th>Longitude</th>\n",
       "      <th>Airport.Code</th>\n",
       "      <th>Airport.Name</th>\n",
       "      <th>...</th>\n",
       "      <th>Air.carrier</th>\n",
       "      <th>Total.Fatal.Injuries</th>\n",
       "      <th>Total.Serious.Injuries</th>\n",
       "      <th>Total.Minor.Injuries</th>\n",
       "      <th>Total.Uninjured</th>\n",
       "      <th>Weather.Condition</th>\n",
       "      <th>Broad.phase.of.flight</th>\n",
       "      <th>Report.Status</th>\n",
       "      <th>Publication.Date</th>\n",
       "      <th>Report_Date</th>\n",
       "    </tr>\n",
       "  </thead>\n",
       "  <tbody>\n",
       "    <tr>\n",
       "      <th>217</th>\n",
       "      <td>20020917X02131</td>\n",
       "      <td>Accident</td>\n",
       "      <td>FTW82FQG14</td>\n",
       "      <td>1982-02-01</td>\n",
       "      <td>PAMPA, TX</td>\n",
       "      <td>United States</td>\n",
       "      <td>NaN</td>\n",
       "      <td>NaN</td>\n",
       "      <td>NaN</td>\n",
       "      <td>NaN</td>\n",
       "      <td>...</td>\n",
       "      <td>NaN</td>\n",
       "      <td>2.0</td>\n",
       "      <td>0.0</td>\n",
       "      <td>0.0</td>\n",
       "      <td>0.0</td>\n",
       "      <td>IMC</td>\n",
       "      <td>Maneuvering</td>\n",
       "      <td>Probable Cause</td>\n",
       "      <td>01-02-1983</td>\n",
       "      <td>1983-01-02</td>\n",
       "    </tr>\n",
       "    <tr>\n",
       "      <th>218</th>\n",
       "      <td>20020917X02315</td>\n",
       "      <td>Accident</td>\n",
       "      <td>LAX82FVD09</td>\n",
       "      <td>1982-02-01</td>\n",
       "      <td>SONOMA, CA</td>\n",
       "      <td>United States</td>\n",
       "      <td>NaN</td>\n",
       "      <td>NaN</td>\n",
       "      <td>SVA</td>\n",
       "      <td>SONOMA VALLEY</td>\n",
       "      <td>...</td>\n",
       "      <td>NaN</td>\n",
       "      <td>0.0</td>\n",
       "      <td>0.0</td>\n",
       "      <td>0.0</td>\n",
       "      <td>1.0</td>\n",
       "      <td>VMC</td>\n",
       "      <td>Takeoff</td>\n",
       "      <td>Probable Cause</td>\n",
       "      <td>01-02-1983</td>\n",
       "      <td>1983-01-02</td>\n",
       "    </tr>\n",
       "    <tr>\n",
       "      <th>219</th>\n",
       "      <td>20020917X02170</td>\n",
       "      <td>Accident</td>\n",
       "      <td>LAX82DA059</td>\n",
       "      <td>1982-02-01</td>\n",
       "      <td>LAS VEGAS, NV</td>\n",
       "      <td>United States</td>\n",
       "      <td>NaN</td>\n",
       "      <td>NaN</td>\n",
       "      <td>VGT</td>\n",
       "      <td>N. LAS VEGAS AIR TERMINAL</td>\n",
       "      <td>...</td>\n",
       "      <td>NaN</td>\n",
       "      <td>0.0</td>\n",
       "      <td>0.0</td>\n",
       "      <td>0.0</td>\n",
       "      <td>2.0</td>\n",
       "      <td>VMC</td>\n",
       "      <td>Landing</td>\n",
       "      <td>Probable Cause</td>\n",
       "      <td>01-02-1983</td>\n",
       "      <td>1983-01-02</td>\n",
       "    </tr>\n",
       "    <tr>\n",
       "      <th>220</th>\n",
       "      <td>20020917X02006</td>\n",
       "      <td>Accident</td>\n",
       "      <td>FTW82DA053</td>\n",
       "      <td>1982-02-01</td>\n",
       "      <td>LAS CRUCES, NM</td>\n",
       "      <td>United States</td>\n",
       "      <td>NaN</td>\n",
       "      <td>NaN</td>\n",
       "      <td>LCR</td>\n",
       "      <td>CRAWFORD</td>\n",
       "      <td>...</td>\n",
       "      <td>NaN</td>\n",
       "      <td>0.0</td>\n",
       "      <td>0.0</td>\n",
       "      <td>0.0</td>\n",
       "      <td>3.0</td>\n",
       "      <td>VMC</td>\n",
       "      <td>Landing</td>\n",
       "      <td>Probable Cause</td>\n",
       "      <td>01-02-1983</td>\n",
       "      <td>1983-01-02</td>\n",
       "    </tr>\n",
       "    <tr>\n",
       "      <th>222</th>\n",
       "      <td>20020917X01922</td>\n",
       "      <td>Accident</td>\n",
       "      <td>DEN82DA028</td>\n",
       "      <td>1982-02-01</td>\n",
       "      <td>ROCK SPRINGS, WY</td>\n",
       "      <td>United States</td>\n",
       "      <td>NaN</td>\n",
       "      <td>NaN</td>\n",
       "      <td>NaN</td>\n",
       "      <td>NaN</td>\n",
       "      <td>...</td>\n",
       "      <td>Alpine Aviation</td>\n",
       "      <td>0.0</td>\n",
       "      <td>1.0</td>\n",
       "      <td>0.0</td>\n",
       "      <td>0.0</td>\n",
       "      <td>IMC</td>\n",
       "      <td>Cruise</td>\n",
       "      <td>Probable Cause</td>\n",
       "      <td>01-02-1983</td>\n",
       "      <td>1983-01-02</td>\n",
       "    </tr>\n",
       "  </tbody>\n",
       "</table>\n",
       "<p>5 rows × 32 columns</p>\n",
       "</div>"
      ],
      "text/plain": [
       "           Event.Id Investigation.Type Accident.Number  Event.Date  \\\n",
       "217  20020917X02131           Accident      FTW82FQG14  1982-02-01   \n",
       "218  20020917X02315           Accident      LAX82FVD09  1982-02-01   \n",
       "219  20020917X02170           Accident      LAX82DA059  1982-02-01   \n",
       "220  20020917X02006           Accident      FTW82DA053  1982-02-01   \n",
       "222  20020917X01922           Accident      DEN82DA028  1982-02-01   \n",
       "\n",
       "             Location        Country Latitude Longitude Airport.Code  \\\n",
       "217         PAMPA, TX  United States      NaN       NaN          NaN   \n",
       "218        SONOMA, CA  United States      NaN       NaN          SVA   \n",
       "219     LAS VEGAS, NV  United States      NaN       NaN          VGT   \n",
       "220    LAS CRUCES, NM  United States      NaN       NaN          LCR   \n",
       "222  ROCK SPRINGS, WY  United States      NaN       NaN          NaN   \n",
       "\n",
       "                  Airport.Name  ...      Air.carrier Total.Fatal.Injuries  \\\n",
       "217                        NaN  ...              NaN                  2.0   \n",
       "218              SONOMA VALLEY  ...              NaN                  0.0   \n",
       "219  N. LAS VEGAS AIR TERMINAL  ...              NaN                  0.0   \n",
       "220                   CRAWFORD  ...              NaN                  0.0   \n",
       "222                        NaN  ...  Alpine Aviation                  0.0   \n",
       "\n",
       "    Total.Serious.Injuries Total.Minor.Injuries Total.Uninjured  \\\n",
       "217                    0.0                  0.0             0.0   \n",
       "218                    0.0                  0.0             1.0   \n",
       "219                    0.0                  0.0             2.0   \n",
       "220                    0.0                  0.0             3.0   \n",
       "222                    1.0                  0.0             0.0   \n",
       "\n",
       "    Weather.Condition Broad.phase.of.flight   Report.Status Publication.Date  \\\n",
       "217               IMC           Maneuvering  Probable Cause       01-02-1983   \n",
       "218               VMC               Takeoff  Probable Cause       01-02-1983   \n",
       "219               VMC               Landing  Probable Cause       01-02-1983   \n",
       "220               VMC               Landing  Probable Cause       01-02-1983   \n",
       "222               IMC                Cruise  Probable Cause       01-02-1983   \n",
       "\n",
       "    Report_Date  \n",
       "217  1983-01-02  \n",
       "218  1983-01-02  \n",
       "219  1983-01-02  \n",
       "220  1983-01-02  \n",
       "222  1983-01-02  \n",
       "\n",
       "[5 rows x 32 columns]"
      ]
     },
     "execution_count": 353,
     "metadata": {},
     "output_type": "execute_result"
    }
   ],
   "source": [
    "airplane_df['Report_Date'] = pd.to_datetime(airplane_df['Publication.Date'], format = 'mixed')\n",
    "airplane_df = airplane_df.sort_values(by = ['Report_Date'])\n",
    "airplane_df = airplane_df[airplane_df['Report_Date'] > '1983']\n",
    "airplane_df.head()"
   ]
  },
  {
   "cell_type": "markdown",
   "id": "36d26002",
   "metadata": {},
   "source": [
    "### Cleaning and constructing Key Measurables\n",
    "\n",
    "Injuries and robustness to destruction are a key interest point for the client. Clean and impute relevant columns and then create derived fields that best quantifies what the client wishes to track. **Use commenting or markdown to explain any cleaning assumptions as well as any derived columns you create.**"
   ]
  },
  {
   "cell_type": "markdown",
   "id": "070b08f8",
   "metadata": {},
   "source": [
    "**Construct metric for fatal/serious injuries**\n",
    "\n",
    "*Hint:* Estimate the total number of passengers on each flight. The likelihood of serious / fatal injury can be estimated as a fraction from this."
   ]
  },
  {
   "cell_type": "code",
   "execution_count": 354,
   "id": "ef28a6d4",
   "metadata": {},
   "outputs": [
    {
     "data": {
      "text/plain": [
       "Total.Fatal.Injuries       9511\n",
       "Total.Serious.Injuries    10411\n",
       "Total.Minor.Injuries       9909\n",
       "Total.Uninjured            4554\n",
       "dtype: int64"
      ]
     },
     "execution_count": 354,
     "metadata": {},
     "output_type": "execute_result"
    }
   ],
   "source": [
    "#Displays the counts for all the injury types in the column\n",
    "\n",
    "include_injury_cols = airplane_df.columns[airplane_df.columns.str.contains('njur')][1::]\n",
    "airplane_df[include_injury_cols].isna().sum()"
   ]
  },
  {
   "cell_type": "markdown",
   "id": "e8766763-e534-42fb-9da3-ee43ad322215",
   "metadata": {},
   "source": [
    "### Evaluating and dropping all the NaNs \n",
    "- Checking the NaNs in the columns within the injuries stats\n",
    "- Dropping those columns\n",
    "- Also, filling all the empty values within the columns with 0"
   ]
  },
  {
   "cell_type": "code",
   "execution_count": 355,
   "id": "d9b57a43-ca77-4224-becd-9cb6be7e9799",
   "metadata": {},
   "outputs": [
    {
     "data": {
      "text/plain": [
       "140"
      ]
     },
     "execution_count": 355,
     "metadata": {},
     "output_type": "execute_result"
    }
   ],
   "source": [
    "airplane_df[include_injury_cols].isna().all(axis = 1).sum()"
   ]
  },
  {
   "cell_type": "code",
   "execution_count": 356,
   "id": "c92c6a2b-fb5c-4a4a-8742-d0515d0817e8",
   "metadata": {},
   "outputs": [
    {
     "data": {
      "text/plain": [
       "Total.Fatal.Injuries       9371\n",
       "Total.Serious.Injuries    10271\n",
       "Total.Minor.Injuries       9769\n",
       "Total.Uninjured            4414\n",
       "dtype: int64"
      ]
     },
     "execution_count": 356,
     "metadata": {},
     "output_type": "execute_result"
    }
   ],
   "source": [
    "#Excluding the NaNs in all the include_injury_cols\n",
    "\n",
    "airplane_df = airplane_df[~airplane_df[include_injury_cols].isna().all(axis = 1)]\n",
    "airplane_df[include_injury_cols].isna().sum()"
   ]
  },
  {
   "cell_type": "code",
   "execution_count": 357,
   "id": "453080c4-4fa5-4eef-bdc8-fe32b882c0e0",
   "metadata": {},
   "outputs": [
    {
     "data": {
      "text/plain": [
       "Total.Fatal.Injuries      0\n",
       "Total.Serious.Injuries    0\n",
       "Total.Minor.Injuries      0\n",
       "Total.Uninjured           0\n",
       "dtype: int64"
      ]
     },
     "execution_count": 357,
     "metadata": {},
     "output_type": "execute_result"
    }
   ],
   "source": [
    "#Filling the missing or the empty values with the 0 using the fillna()\n",
    "\n",
    "airplane_df.loc[:, include_injury_cols] = airplane_df[include_injury_cols].fillna(0)\n",
    "airplane_df[include_injury_cols].isna().sum()"
   ]
  },
  {
   "cell_type": "markdown",
   "id": "8b8481b6-8c9c-4a18-b75d-8d15946ecd01",
   "metadata": {},
   "source": [
    "### Evaluating the likelihood of fatal/serious injuries given an accident\n",
    "- Calculate the total number of passengers\n",
    "- Removing the rows where the total number of passengers is 0\n",
    "- Also, calculating the fatal + serious injuries as a fraction"
   ]
  },
  {
   "cell_type": "code",
   "execution_count": 358,
   "id": "1bbf7dd8-0ce7-4ca2-8683-94620150c79b",
   "metadata": {},
   "outputs": [
    {
     "data": {
      "text/plain": [
       "217    2.0\n",
       "218    1.0\n",
       "219    2.0\n",
       "220    3.0\n",
       "222    1.0\n",
       "Name: N_passenger, dtype: float64"
      ]
     },
     "execution_count": 358,
     "metadata": {},
     "output_type": "execute_result"
    }
   ],
   "source": [
    "#This gives you the total number of passengers in a new column\n",
    "\n",
    "airplane_df.loc[:, 'N_passenger'] = airplane_df.loc[:, include_injury_cols].sum(axis = 1)\n",
    "airplane_df['N_passenger'].head()"
   ]
  },
  {
   "cell_type": "code",
   "execution_count": 359,
   "id": "4645ae2d-9334-40c4-a708-ce8e93bddbc0",
   "metadata": {},
   "outputs": [],
   "source": [
    "#This includes only the rows where the total passenger is > 0\n",
    "\n",
    "airplane_df = airplane_df[airplane_df['N_passenger'] > 0]"
   ]
  },
  {
   "cell_type": "code",
   "execution_count": 360,
   "id": "4ca091f8-76a1-40b0-8ee8-fa9b0543a03d",
   "metadata": {},
   "outputs": [
    {
     "data": {
      "text/plain": [
       "217    1.0\n",
       "218    0.0\n",
       "219    0.0\n",
       "220    0.0\n",
       "222    1.0\n",
       "Name: S_njur_frac, dtype: float64"
      ]
     },
     "execution_count": 360,
     "metadata": {},
     "output_type": "execute_result"
    }
   ],
   "source": [
    "#For the fraction, we have the (fatal + serious)injuries/ (Total passengers)\n",
    "\n",
    "airplane_df['S_njur_frac'] = (airplane_df['Total.Fatal.Injuries'] + airplane_df['Total.Serious.Injuries']) / airplane_df['N_passenger']\n",
    "airplane_df['S_njur_frac'].head()"
   ]
  },
  {
   "cell_type": "markdown",
   "id": "6c89136b",
   "metadata": {},
   "source": [
    "**Aircraft.Damage**\n",
    "- identify and execute any cleaning tasks\n",
    "- construct a derived column tracking whether an aircraft was destroyed or not."
   ]
  },
  {
   "cell_type": "code",
   "execution_count": 361,
   "id": "91b518b1",
   "metadata": {},
   "outputs": [
    {
     "data": {
      "text/plain": [
       "array(['Destroyed', 'Substantial', 'Minor', nan, 'Unknown'], dtype=object)"
      ]
     },
     "execution_count": 361,
     "metadata": {},
     "output_type": "execute_result"
    }
   ],
   "source": [
    "#Looking into the Aircraft.damage\n",
    "\n",
    "airplane_df['Aircraft.damage'].unique()"
   ]
  },
  {
   "cell_type": "code",
   "execution_count": 362,
   "id": "054a305d-c452-496e-a64c-2b18f196b587",
   "metadata": {},
   "outputs": [
    {
     "data": {
      "text/plain": [
       "Aircraft.damage\n",
       "Substantial    46048\n",
       "Destroyed      12494\n",
       "Minor           1854\n",
       "Unknown           41\n",
       "Name: count, dtype: int64"
      ]
     },
     "execution_count": 362,
     "metadata": {},
     "output_type": "execute_result"
    }
   ],
   "source": [
    "airplane_df['Aircraft.damage'].value_counts()"
   ]
  },
  {
   "cell_type": "markdown",
   "id": "662f251c-d84c-4013-a73e-7d72cad1d96b",
   "metadata": {},
   "source": [
    "### Fixing the values within the Aircraft.damage\n",
    "- Replacing nthe Unknown with the nan using np.nan\n",
    "- Dropping all the NaNs in total"
   ]
  },
  {
   "cell_type": "code",
   "execution_count": 363,
   "id": "92087e1e-8914-4c1a-ab61-60c7abeafed7",
   "metadata": {},
   "outputs": [
    {
     "data": {
      "text/plain": [
       "2014"
      ]
     },
     "execution_count": 363,
     "metadata": {},
     "output_type": "execute_result"
    }
   ],
   "source": [
    "#Looking into the NaNs in the Aircraft.damage\n",
    "\n",
    "airplane_df['Aircraft.damage'].isna().sum()"
   ]
  },
  {
   "cell_type": "code",
   "execution_count": 364,
   "id": "9724e9cc-176c-4ce4-860e-f12cb0a67a71",
   "metadata": {},
   "outputs": [
    {
     "name": "stdout",
     "output_type": "stream",
     "text": [
      "<class 'pandas.core.frame.DataFrame'>\n",
      "Index: 60396 entries, 217 to 88784\n",
      "Data columns (total 34 columns):\n",
      " #   Column                  Non-Null Count  Dtype         \n",
      "---  ------                  --------------  -----         \n",
      " 0   Event.Id                60396 non-null  object        \n",
      " 1   Investigation.Type      60396 non-null  object        \n",
      " 2   Accident.Number         60396 non-null  object        \n",
      " 3   Event.Date              60396 non-null  object        \n",
      " 4   Location                60368 non-null  object        \n",
      " 5   Country                 60252 non-null  object        \n",
      " 6   Latitude                25230 non-null  object        \n",
      " 7   Longitude               25224 non-null  object        \n",
      " 8   Airport.Code            35965 non-null  object        \n",
      " 9   Airport.Name            37414 non-null  object        \n",
      " 10  Injury.Severity         60396 non-null  object        \n",
      " 11  Aircraft.damage         60396 non-null  object        \n",
      " 12  Aircraft.Category       60396 non-null  object        \n",
      " 13  Registration.Number     59606 non-null  object        \n",
      " 14  Make                    60380 non-null  object        \n",
      " 15  Model                   60365 non-null  object        \n",
      " 16  Amateur.Built           60396 non-null  object        \n",
      " 17  Number.of.Engines       57384 non-null  float64       \n",
      " 18  Engine.Type             57114 non-null  object        \n",
      " 19  FAR.Description         21881 non-null  object        \n",
      " 20  Schedule                7734 non-null   object        \n",
      " 21  Purpose.of.flight       57390 non-null  object        \n",
      " 22  Air.carrier             11025 non-null  object        \n",
      " 23  Total.Fatal.Injuries    60396 non-null  float64       \n",
      " 24  Total.Serious.Injuries  60396 non-null  float64       \n",
      " 25  Total.Minor.Injuries    60396 non-null  float64       \n",
      " 26  Total.Uninjured         60396 non-null  float64       \n",
      " 27  Weather.Condition       58582 non-null  object        \n",
      " 28  Broad.phase.of.flight   42527 non-null  object        \n",
      " 29  Report.Status           57237 non-null  object        \n",
      " 30  Publication.Date        60396 non-null  object        \n",
      " 31  Report_Date             60396 non-null  datetime64[ns]\n",
      " 32  N_passenger             60396 non-null  float64       \n",
      " 33  S_njur_frac             60396 non-null  float64       \n",
      "dtypes: datetime64[ns](1), float64(7), object(26)\n",
      "memory usage: 16.1+ MB\n"
     ]
    }
   ],
   "source": [
    "#Rrplacing the Unknown value with nan and dropping all the NaNs\n",
    "\n",
    "airplane_df['Aircraft.damage'] = airplane_df['Aircraft.damage'].replace({'Unknown':np.nan})\n",
    "airplane_df.dropna(subset = ['Aircraft.damage'], inplace = True)\n",
    "airplane_df.info()"
   ]
  },
  {
   "cell_type": "markdown",
   "id": "11abf960-3de3-4858-ac6e-4fe4288f1a0d",
   "metadata": {},
   "source": [
    "### Create a new derived columns for the destroyed airplanes\n",
    "- Apply boolean mask/ filter and convert to int where, (Destroyed(Yes) == 1)"
   ]
  },
  {
   "cell_type": "code",
   "execution_count": 365,
   "id": "9cfe859f-c3b9-4567-b82b-0b4d1a12ab2a",
   "metadata": {},
   "outputs": [
    {
     "data": {
      "text/plain": [
       "217    1\n",
       "218    0\n",
       "219    0\n",
       "220    0\n",
       "222    0\n",
       "Name: Ap_destroyed, dtype: int32"
      ]
     },
     "execution_count": 365,
     "metadata": {},
     "output_type": "execute_result"
    }
   ],
   "source": [
    "airplane_df['Ap_destroyed'] = (airplane_df['Aircraft.damage'] == 'Destroyed').astype('int')\n",
    "airplane_df['Ap_destroyed'].head()"
   ]
  },
  {
   "cell_type": "markdown",
   "id": "e9d8af9b",
   "metadata": {},
   "source": [
    "### Investigate the *Make* column\n",
    "- Identify cleaning tasks here\n",
    "- List cleaning tasks clearly in markdown\n",
    "- Execute the cleaning tasks\n",
    "- For your analysis, keep Makes with a reasonable number (you can put the threshold at 50 though lower could work as well)"
   ]
  },
  {
   "cell_type": "code",
   "execution_count": 366,
   "id": "cf9005cf",
   "metadata": {},
   "outputs": [
    {
     "data": {
      "text/plain": [
       "Make\n",
       "Cessna                      22023\n",
       "Piper                       12103\n",
       "Beech                        4417\n",
       "Bell                         1348\n",
       "Boeing                       1157\n",
       "                            ...  \n",
       "Evektor-Aerotechnik A.S.        1\n",
       "Opus Motorsports Llc            1\n",
       "Christen Industries Inc.        1\n",
       "Walker                          1\n",
       "Scott Terry G                   1\n",
       "Name: count, Length: 1430, dtype: int64"
      ]
     },
     "execution_count": 366,
     "metadata": {},
     "output_type": "execute_result"
    }
   ],
   "source": [
    "#Converting all the Make str values to Capitalized version\n",
    "\n",
    "airplane_df.loc[:, 'Make'] = airplane_df['Make'].str.title().str.strip()\n",
    "make_counts = airplane_df['Make'].value_counts()\n",
    "make_counts"
   ]
  },
  {
   "cell_type": "code",
   "execution_count": 367,
   "id": "121bb564-43da-47d6-bdb7-8122e5d9b624",
   "metadata": {},
   "outputs": [
    {
     "data": {
      "text/plain": [
       "Make\n",
       "Cessna                        22023\n",
       "Piper                         12103\n",
       "Beech                          4417\n",
       "Bell                           1348\n",
       "Boeing                         1157\n",
       "                              ...  \n",
       "British Aerospace                56\n",
       "Pilatus                          53\n",
       "American Champion Aircraft       51\n",
       "Aerostar                         51\n",
       "Balloon Works                    50\n",
       "Name: count, Length: 72, dtype: int64"
      ]
     },
     "execution_count": 367,
     "metadata": {},
     "output_type": "execute_result"
    }
   ],
   "source": [
    "#Setting the threshold to be 50\n",
    "\n",
    "THRESHOLD = 50 \n",
    "\n",
    "valid_makes = make_counts[make_counts >= THRESHOLD].index\n",
    "airplane_df = airplane_df[airplane_df['Make'].isin(valid_makes)]\n",
    "airplane_df['Make'].value_counts()"
   ]
  },
  {
   "cell_type": "markdown",
   "id": "6ed9f3c2",
   "metadata": {},
   "source": [
    "### Inspect Model column\n",
    "- Get rid of any NaNs.\n",
    "- Inspect the column and counts for each model/make. Are model labels unique to each make?\n",
    "- If not, create a derived column that is a unique identifier for a given plane type."
   ]
  },
  {
   "cell_type": "code",
   "execution_count": 368,
   "id": "05f20594",
   "metadata": {},
   "outputs": [],
   "source": [
    "airplane_df.dropna(subset = ['Model'], inplace = True)"
   ]
  },
  {
   "cell_type": "code",
   "execution_count": 369,
   "id": "d2d4b5ab-06f6-47a3-8565-2f31465c1179",
   "metadata": {},
   "outputs": [
    {
     "data": {
      "text/html": [
       "<div>\n",
       "<style scoped>\n",
       "    .dataframe tbody tr th:only-of-type {\n",
       "        vertical-align: middle;\n",
       "    }\n",
       "\n",
       "    .dataframe tbody tr th {\n",
       "        vertical-align: top;\n",
       "    }\n",
       "\n",
       "    .dataframe thead th {\n",
       "        text-align: right;\n",
       "    }\n",
       "</style>\n",
       "<table border=\"1\" class=\"dataframe\">\n",
       "  <thead>\n",
       "    <tr style=\"text-align: right;\">\n",
       "      <th></th>\n",
       "      <th>Event.Id</th>\n",
       "      <th>Investigation.Type</th>\n",
       "      <th>Accident.Number</th>\n",
       "      <th>Event.Date</th>\n",
       "      <th>Location</th>\n",
       "      <th>Country</th>\n",
       "      <th>Latitude</th>\n",
       "      <th>Longitude</th>\n",
       "      <th>Airport.Code</th>\n",
       "      <th>Airport.Name</th>\n",
       "      <th>...</th>\n",
       "      <th>Total.Minor.Injuries</th>\n",
       "      <th>Total.Uninjured</th>\n",
       "      <th>Weather.Condition</th>\n",
       "      <th>Broad.phase.of.flight</th>\n",
       "      <th>Report.Status</th>\n",
       "      <th>Publication.Date</th>\n",
       "      <th>Report_Date</th>\n",
       "      <th>N_passenger</th>\n",
       "      <th>S_njur_frac</th>\n",
       "      <th>Ap_destroyed</th>\n",
       "    </tr>\n",
       "    <tr>\n",
       "      <th>Make</th>\n",
       "      <th></th>\n",
       "      <th></th>\n",
       "      <th></th>\n",
       "      <th></th>\n",
       "      <th></th>\n",
       "      <th></th>\n",
       "      <th></th>\n",
       "      <th></th>\n",
       "      <th></th>\n",
       "      <th></th>\n",
       "      <th></th>\n",
       "      <th></th>\n",
       "      <th></th>\n",
       "      <th></th>\n",
       "      <th></th>\n",
       "      <th></th>\n",
       "      <th></th>\n",
       "      <th></th>\n",
       "      <th></th>\n",
       "      <th></th>\n",
       "      <th></th>\n",
       "    </tr>\n",
       "  </thead>\n",
       "  <tbody>\n",
       "    <tr>\n",
       "      <th>Aero Commander</th>\n",
       "      <td>33</td>\n",
       "      <td>33</td>\n",
       "      <td>33</td>\n",
       "      <td>33</td>\n",
       "      <td>33</td>\n",
       "      <td>33</td>\n",
       "      <td>16</td>\n",
       "      <td>16</td>\n",
       "      <td>16</td>\n",
       "      <td>22</td>\n",
       "      <td>...</td>\n",
       "      <td>33</td>\n",
       "      <td>33</td>\n",
       "      <td>33</td>\n",
       "      <td>25</td>\n",
       "      <td>31</td>\n",
       "      <td>33</td>\n",
       "      <td>33</td>\n",
       "      <td>33</td>\n",
       "      <td>33</td>\n",
       "      <td>33</td>\n",
       "    </tr>\n",
       "    <tr>\n",
       "      <th>Beech</th>\n",
       "      <td>10</td>\n",
       "      <td>10</td>\n",
       "      <td>10</td>\n",
       "      <td>10</td>\n",
       "      <td>10</td>\n",
       "      <td>10</td>\n",
       "      <td>3</td>\n",
       "      <td>3</td>\n",
       "      <td>7</td>\n",
       "      <td>7</td>\n",
       "      <td>...</td>\n",
       "      <td>10</td>\n",
       "      <td>10</td>\n",
       "      <td>10</td>\n",
       "      <td>7</td>\n",
       "      <td>9</td>\n",
       "      <td>10</td>\n",
       "      <td>10</td>\n",
       "      <td>10</td>\n",
       "      <td>10</td>\n",
       "      <td>10</td>\n",
       "    </tr>\n",
       "    <tr>\n",
       "      <th>Rockwell</th>\n",
       "      <td>1</td>\n",
       "      <td>1</td>\n",
       "      <td>1</td>\n",
       "      <td>1</td>\n",
       "      <td>1</td>\n",
       "      <td>1</td>\n",
       "      <td>0</td>\n",
       "      <td>0</td>\n",
       "      <td>0</td>\n",
       "      <td>0</td>\n",
       "      <td>...</td>\n",
       "      <td>1</td>\n",
       "      <td>1</td>\n",
       "      <td>1</td>\n",
       "      <td>1</td>\n",
       "      <td>1</td>\n",
       "      <td>1</td>\n",
       "      <td>1</td>\n",
       "      <td>1</td>\n",
       "      <td>1</td>\n",
       "      <td>1</td>\n",
       "    </tr>\n",
       "  </tbody>\n",
       "</table>\n",
       "<p>3 rows × 33 columns</p>\n",
       "</div>"
      ],
      "text/plain": [
       "                Event.Id  Investigation.Type  Accident.Number  Event.Date  \\\n",
       "Make                                                                        \n",
       "Aero Commander        33                  33               33          33   \n",
       "Beech                 10                  10               10          10   \n",
       "Rockwell               1                   1                1           1   \n",
       "\n",
       "                Location  Country  Latitude  Longitude  Airport.Code  \\\n",
       "Make                                                                   \n",
       "Aero Commander        33       33        16         16            16   \n",
       "Beech                 10       10         3          3             7   \n",
       "Rockwell               1        1         0          0             0   \n",
       "\n",
       "                Airport.Name  ...  Total.Minor.Injuries  Total.Uninjured  \\\n",
       "Make                          ...                                          \n",
       "Aero Commander            22  ...                    33               33   \n",
       "Beech                      7  ...                    10               10   \n",
       "Rockwell                   0  ...                     1                1   \n",
       "\n",
       "                Weather.Condition  Broad.phase.of.flight  Report.Status  \\\n",
       "Make                                                                      \n",
       "Aero Commander                 33                     25             31   \n",
       "Beech                          10                      7              9   \n",
       "Rockwell                        1                      1              1   \n",
       "\n",
       "                Publication.Date  Report_Date  N_passenger  S_njur_frac  \\\n",
       "Make                                                                      \n",
       "Aero Commander                33           33           33           33   \n",
       "Beech                         10           10           10           10   \n",
       "Rockwell                       1            1            1            1   \n",
       "\n",
       "                Ap_destroyed  \n",
       "Make                          \n",
       "Aero Commander            33  \n",
       "Beech                     10  \n",
       "Rockwell                   1  \n",
       "\n",
       "[3 rows x 33 columns]"
      ]
     },
     "execution_count": 369,
     "metadata": {},
     "output_type": "execute_result"
    }
   ],
   "source": [
    "airplane_df.groupby(['Model', 'Make']).count().loc['100']"
   ]
  },
  {
   "cell_type": "code",
   "execution_count": 370,
   "id": "fbb7624d-07e2-41b8-9dbd-2749aa0aeeb1",
   "metadata": {},
   "outputs": [
    {
     "data": {
      "text/plain": [
       "make_model\n",
       "Cessna_152                   1805\n",
       "Cessna_172                   1468\n",
       "Cessna_172N                   976\n",
       "Piper_PA-28-140               741\n",
       "Cessna_172M                   675\n",
       "                             ... \n",
       "Mcdonnell Douglas_DC10-10       1\n",
       "Cessna_180R                     1\n",
       "Beech_D-50                      1\n",
       "Fairchild_FA-24                 1\n",
       "Pilatus_PC6                     1\n",
       "Name: count, Length: 4887, dtype: int64"
      ]
     },
     "execution_count": 370,
     "metadata": {},
     "output_type": "execute_result"
    }
   ],
   "source": [
    "airplane_df['make_model'] = airplane_df['Make'] + '_' + airplane_df['Model'].str.upper()\n",
    "airplane_df['make_model'].value_counts()"
   ]
  },
  {
   "cell_type": "markdown",
   "id": "9a173ebd",
   "metadata": {},
   "source": [
    "### Cleaning other columns\n",
    "- there are other columns containing data that might be related to the outcome of an accident. We list a few here:\n",
    "- Engine.Type\n",
    "- Weather.Condition\n",
    "- Number.of.Engines\n",
    "- Purpose.of.flight\n",
    "- Broad.phase.of.flight\n",
    "\n",
    "Inspect and identify potential cleaning tasks in each of the above columns. Execute those cleaning tasks. \n",
    "\n",
    "**Note**: You do not necessarily need to impute or drop NaNs here."
   ]
  },
  {
   "cell_type": "code",
   "execution_count": 371,
   "id": "01df492e",
   "metadata": {},
   "outputs": [
    {
     "name": "stderr",
     "output_type": "stream",
     "text": [
      "C:\\Users\\Aashi\\AppData\\Local\\Temp\\ipykernel_26876\\3346295451.py:2: FutureWarning: A value is trying to be set on a copy of a DataFrame or Series through chained assignment using an inplace method.\n",
      "The behavior will change in pandas 3.0. This inplace method will never work because the intermediate object on which we are setting values always behaves as a copy.\n",
      "\n",
      "For example, when doing 'df[col].method(value, inplace=True)', try using 'df.method({col: value}, inplace=True)' or df[col] = df[col].method(value) instead, to perform the operation inplace on the original object.\n",
      "\n",
      "\n",
      "  airplane_df['Engine.Type'].replace({'Unknown' : np.nan, 'UNK' : np.nan}, inplace = True)\n"
     ]
    },
    {
     "data": {
      "text/plain": [
       "Engine.Type\n",
       "Reciprocating    46290\n",
       "Turbo Prop        2409\n",
       "Turbo Shaft       1553\n",
       "Turbo Fan         1072\n",
       "Turbo Jet          283\n",
       "Name: count, dtype: int64"
      ]
     },
     "execution_count": 371,
     "metadata": {},
     "output_type": "execute_result"
    }
   ],
   "source": [
    "airplane_df['Engine.Type'].value_counts()\n",
    "airplane_df['Engine.Type'].replace({'Unknown' : np.nan, 'UNK' : np.nan}, inplace = True)\n",
    "\n",
    "filtered_enginetype = airplane_df['Engine.Type'].value_counts()[airplane_df['Engine.Type'].value_counts() > 1]\n",
    "airplane_df  = airplane_df[airplane_df['Engine.Type'].isin(filtered_enginetype.index)]\n",
    "airplane_df['Engine.Type'].value_counts()\n"
   ]
  },
  {
   "cell_type": "markdown",
   "id": "d463332a-5284-40d6-83b9-b902b1215493",
   "metadata": {},
   "source": [
    "### Fixing Weather.Condition\n",
    "- Looking for the unique values within the column\n",
    "- Replacing 'UNK' and 'Unk' with the NaN using np.nan"
   ]
  },
  {
   "cell_type": "code",
   "execution_count": 372,
   "id": "17df36d7-afe3-4b35-ae42-7c09e4e17ed8",
   "metadata": {},
   "outputs": [
    {
     "data": {
      "text/plain": [
       "array(['IMC', 'VMC', 'UNK', nan, 'Unk'], dtype=object)"
      ]
     },
     "execution_count": 372,
     "metadata": {},
     "output_type": "execute_result"
    }
   ],
   "source": [
    "#This lists out all the unique values in the Weather.Condition column\n",
    "\n",
    "airplane_df['Weather.Condition'].unique()"
   ]
  },
  {
   "cell_type": "code",
   "execution_count": 373,
   "id": "ecff593d-2bef-41b3-b01d-f3eb644376e0",
   "metadata": {},
   "outputs": [
    {
     "name": "stderr",
     "output_type": "stream",
     "text": [
      "C:\\Users\\Aashi\\AppData\\Local\\Temp\\ipykernel_26876\\526779062.py:3: FutureWarning: A value is trying to be set on a copy of a DataFrame or Series through chained assignment using an inplace method.\n",
      "The behavior will change in pandas 3.0. This inplace method will never work because the intermediate object on which we are setting values always behaves as a copy.\n",
      "\n",
      "For example, when doing 'df[col].method(value, inplace=True)', try using 'df.method({col: value}, inplace=True)' or df[col] = df[col].method(value) instead, to perform the operation inplace on the original object.\n",
      "\n",
      "\n",
      "  airplane_df['Weather.Condition'].replace({'UNK' : np.nan, 'Unk' : np.nan}, inplace = True)\n"
     ]
    },
    {
     "data": {
      "text/plain": [
       "Weather.Condition\n",
       "VMC    46777\n",
       "IMC     3982\n",
       "Name: count, dtype: int64"
      ]
     },
     "execution_count": 373,
     "metadata": {},
     "output_type": "execute_result"
    }
   ],
   "source": [
    "#Replacing the unknowns with NaN\n",
    "\n",
    "airplane_df['Weather.Condition'].replace({'UNK' : np.nan, 'Unk' : np.nan}, inplace = True)\n",
    "airplane_df['Weather.Condition'].value_counts()"
   ]
  },
  {
   "cell_type": "markdown",
   "id": "d0fc8fa1-b357-4291-80c6-d306e6870113",
   "metadata": {},
   "source": [
    "### Looking into the Number.of.Engines columns\n",
    "- Using the .value_counts() to figure out the counts for all the values\n",
    "- Excluding the values where the Number.of.Engine is not provided/ is 0."
   ]
  },
  {
   "cell_type": "code",
   "execution_count": 374,
   "id": "d6d115c5-560e-4ca3-b353-b2e447b4c2f2",
   "metadata": {},
   "outputs": [
    {
     "data": {
      "text/plain": [
       "Number.of.Engines\n",
       "1.0    44110\n",
       "2.0     6684\n",
       "4.0      221\n",
       "3.0      218\n",
       "0.0        2\n",
       "Name: count, dtype: int64"
      ]
     },
     "execution_count": 374,
     "metadata": {},
     "output_type": "execute_result"
    }
   ],
   "source": [
    "airplane_df['Number.of.Engines'].value_counts()"
   ]
  },
  {
   "cell_type": "code",
   "execution_count": 375,
   "id": "7a1496b9-bad2-4e08-9184-c8bcd65b77f4",
   "metadata": {},
   "outputs": [
    {
     "data": {
      "text/plain": [
       "array([1., 2., 3., 4.])"
      ]
     },
     "execution_count": 375,
     "metadata": {},
     "output_type": "execute_result"
    }
   ],
   "source": [
    "#Selecting just the values with the Number.of.Engines > 0.0\n",
    "\n",
    "airplane_df = airplane_df[airplane_df['Number.of.Engines'] > 0.0]\n",
    "airplane_df['Number.of.Engines'].unique()"
   ]
  },
  {
   "cell_type": "markdown",
   "id": "c7250eb4-5ccc-4a6a-b796-6004a06ab86c",
   "metadata": {},
   "source": [
    "### Exploring the Purpose.of.flight\n",
    "- List out the unique values in the Purpose.of.flight\n",
    "- Replacing the unknowns with NaN"
   ]
  },
  {
   "cell_type": "code",
   "execution_count": 376,
   "id": "edf75c24-a6d3-46a9-8b50-ca02e1028ee9",
   "metadata": {},
   "outputs": [
    {
     "data": {
      "text/plain": [
       "array(['Personal', 'Instructional', 'Unknown', 'Executive/corporate',\n",
       "       'Business', 'Aerial Application', 'Ferry', 'Aerial Observation',\n",
       "       'Public Aircraft', 'Other Work Use', 'Positioning', nan,\n",
       "       'Flight Test', 'Air Drop', 'Air Race/show', 'Skydiving',\n",
       "       'Public Aircraft - State', 'Glider Tow', 'External Load',\n",
       "       'Firefighting', 'Public Aircraft - Local', 'Banner Tow',\n",
       "       'Public Aircraft - Federal', 'Air Race show', 'PUBS'], dtype=object)"
      ]
     },
     "execution_count": 376,
     "metadata": {},
     "output_type": "execute_result"
    }
   ],
   "source": [
    "airplane_df['Purpose.of.flight'].unique()"
   ]
  },
  {
   "cell_type": "code",
   "execution_count": 377,
   "id": "9ab6f0d5-cfe5-4942-8260-0ef1919aa191",
   "metadata": {},
   "outputs": [
    {
     "name": "stderr",
     "output_type": "stream",
     "text": [
      "C:\\Users\\Aashi\\AppData\\Local\\Temp\\ipykernel_26876\\3127435971.py:3: FutureWarning: A value is trying to be set on a copy of a DataFrame or Series through chained assignment using an inplace method.\n",
      "The behavior will change in pandas 3.0. This inplace method will never work because the intermediate object on which we are setting values always behaves as a copy.\n",
      "\n",
      "For example, when doing 'df[col].method(value, inplace=True)', try using 'df.method({col: value}, inplace=True)' or df[col] = df[col].method(value) instead, to perform the operation inplace on the original object.\n",
      "\n",
      "\n",
      "  airplane_df['Purpose.of.flight'].replace({'Unknown' : np.nan}, inplace = True)\n"
     ]
    },
    {
     "data": {
      "text/plain": [
       "array(['Personal', 'Instructional', nan, 'Executive/corporate',\n",
       "       'Business', 'Aerial Application', 'Ferry', 'Aerial Observation',\n",
       "       'Public Aircraft', 'Other Work Use', 'Positioning', 'Flight Test',\n",
       "       'Air Drop', 'Air Race/show', 'Skydiving',\n",
       "       'Public Aircraft - State', 'Glider Tow', 'External Load',\n",
       "       'Firefighting', 'Public Aircraft - Local', 'Banner Tow',\n",
       "       'Public Aircraft - Federal', 'Air Race show', 'PUBS'], dtype=object)"
      ]
     },
     "execution_count": 377,
     "metadata": {},
     "output_type": "execute_result"
    }
   ],
   "source": [
    "#Replacing the Unknown\n",
    "\n",
    "airplane_df['Purpose.of.flight'].replace({'Unknown' : np.nan}, inplace = True)\n",
    "airplane_df['Purpose.of.flight'].unique()"
   ]
  },
  {
   "cell_type": "markdown",
   "id": "c67762db-575e-40a2-8f33-28c0dddcc29e",
   "metadata": {},
   "source": [
    "### Repeating the same procedure with Broad.phase.of.flight"
   ]
  },
  {
   "cell_type": "code",
   "execution_count": 378,
   "id": "17ff176e-4619-4a5a-bfa4-106d815e245f",
   "metadata": {},
   "outputs": [
    {
     "data": {
      "text/plain": [
       "array(['Maneuvering', 'Takeoff', 'Landing', 'Cruise', 'Approach', 'Taxi',\n",
       "       'Climb', 'Go-around', 'Unknown', 'Descent', 'Other', 'Standing',\n",
       "       nan], dtype=object)"
      ]
     },
     "execution_count": 378,
     "metadata": {},
     "output_type": "execute_result"
    }
   ],
   "source": [
    "airplane_df['Broad.phase.of.flight'].unique()"
   ]
  },
  {
   "cell_type": "code",
   "execution_count": 379,
   "id": "d24d6760-0e7a-4708-8277-9c6321859c29",
   "metadata": {},
   "outputs": [
    {
     "name": "stderr",
     "output_type": "stream",
     "text": [
      "C:\\Users\\Aashi\\AppData\\Local\\Temp\\ipykernel_26876\\2235188972.py:1: FutureWarning: A value is trying to be set on a copy of a DataFrame or Series through chained assignment using an inplace method.\n",
      "The behavior will change in pandas 3.0. This inplace method will never work because the intermediate object on which we are setting values always behaves as a copy.\n",
      "\n",
      "For example, when doing 'df[col].method(value, inplace=True)', try using 'df.method({col: value}, inplace=True)' or df[col] = df[col].method(value) instead, to perform the operation inplace on the original object.\n",
      "\n",
      "\n",
      "  airplane_df['Broad.phase.of.flight'].replace({'Unknown' : np.nan}, inplace = True)\n"
     ]
    },
    {
     "data": {
      "text/plain": [
       "array(['Maneuvering', 'Takeoff', 'Landing', 'Cruise', 'Approach', 'Taxi',\n",
       "       'Climb', 'Go-around', nan, 'Descent', 'Other', 'Standing'],\n",
       "      dtype=object)"
      ]
     },
     "execution_count": 379,
     "metadata": {},
     "output_type": "execute_result"
    }
   ],
   "source": [
    "airplane_df['Broad.phase.of.flight'].replace({'Unknown' : np.nan}, inplace = True)\n",
    "airplane_df['Broad.phase.of.flight'].unique()"
   ]
  },
  {
   "cell_type": "markdown",
   "id": "12ad63d9",
   "metadata": {},
   "source": [
    "### Column Removal\n",
    "- inspect the dataframe and drop any columns that have too many NaNs"
   ]
  },
  {
   "cell_type": "code",
   "execution_count": 380,
   "id": "f661bb21",
   "metadata": {},
   "outputs": [
    {
     "name": "stdout",
     "output_type": "stream",
     "text": [
      "<class 'pandas.core.frame.DataFrame'>\n",
      "Index: 51233 entries, 217 to 88767\n",
      "Data columns (total 36 columns):\n",
      " #   Column                  Non-Null Count  Dtype         \n",
      "---  ------                  --------------  -----         \n",
      " 0   Event.Id                51233 non-null  object        \n",
      " 1   Investigation.Type      51233 non-null  object        \n",
      " 2   Accident.Number         51233 non-null  object        \n",
      " 3   Event.Date              51233 non-null  object        \n",
      " 4   Location                51222 non-null  object        \n",
      " 5   Country                 51112 non-null  object        \n",
      " 6   Latitude                19859 non-null  object        \n",
      " 7   Longitude               19854 non-null  object        \n",
      " 8   Airport.Code            31399 non-null  object        \n",
      " 9   Airport.Name            32831 non-null  object        \n",
      " 10  Injury.Severity         51233 non-null  object        \n",
      " 11  Aircraft.damage         51233 non-null  object        \n",
      " 12  Aircraft.Category       51233 non-null  object        \n",
      " 13  Registration.Number     51203 non-null  object        \n",
      " 14  Make                    51233 non-null  object        \n",
      " 15  Model                   51233 non-null  object        \n",
      " 16  Amateur.Built           51233 non-null  object        \n",
      " 17  Number.of.Engines       51233 non-null  float64       \n",
      " 18  Engine.Type             51233 non-null  object        \n",
      " 19  FAR.Description         16917 non-null  object        \n",
      " 20  Schedule                6024 non-null   object        \n",
      " 21  Purpose.of.flight       46383 non-null  object        \n",
      " 22  Air.carrier             8321 non-null   object        \n",
      " 23  Total.Fatal.Injuries    51233 non-null  float64       \n",
      " 24  Total.Serious.Injuries  51233 non-null  float64       \n",
      " 25  Total.Minor.Injuries    51233 non-null  float64       \n",
      " 26  Total.Uninjured         51233 non-null  float64       \n",
      " 27  Weather.Condition       50452 non-null  object        \n",
      " 28  Broad.phase.of.flight   39072 non-null  object        \n",
      " 29  Report.Status           50555 non-null  object        \n",
      " 30  Publication.Date        51233 non-null  object        \n",
      " 31  Report_Date             51233 non-null  datetime64[ns]\n",
      " 32  N_passenger             51233 non-null  float64       \n",
      " 33  S_njur_frac             51233 non-null  float64       \n",
      " 34  Ap_destroyed            51233 non-null  int32         \n",
      " 35  make_model              51233 non-null  object        \n",
      "dtypes: datetime64[ns](1), float64(7), int32(1), object(27)\n",
      "memory usage: 14.3+ MB\n"
     ]
    }
   ],
   "source": [
    "#Inspection of the dataframe\n",
    "\n",
    "airplane_df.info()"
   ]
  },
  {
   "cell_type": "code",
   "execution_count": 381,
   "id": "7c48ee17-1735-4f3a-800d-d8b985659449",
   "metadata": {},
   "outputs": [
    {
     "name": "stdout",
     "output_type": "stream",
     "text": [
      "<class 'pandas.core.frame.DataFrame'>\n",
      "Index: 51233 entries, 217 to 88767\n",
      "Data columns (total 29 columns):\n",
      " #   Column                  Non-Null Count  Dtype         \n",
      "---  ------                  --------------  -----         \n",
      " 0   Event.Id                51233 non-null  object        \n",
      " 1   Investigation.Type      51233 non-null  object        \n",
      " 2   Accident.Number         51233 non-null  object        \n",
      " 3   Event.Date              51233 non-null  object        \n",
      " 4   Location                51222 non-null  object        \n",
      " 5   Country                 51112 non-null  object        \n",
      " 6   Injury.Severity         51233 non-null  object        \n",
      " 7   Aircraft.damage         51233 non-null  object        \n",
      " 8   Aircraft.Category       51233 non-null  object        \n",
      " 9   Registration.Number     51203 non-null  object        \n",
      " 10  Make                    51233 non-null  object        \n",
      " 11  Model                   51233 non-null  object        \n",
      " 12  Amateur.Built           51233 non-null  object        \n",
      " 13  Number.of.Engines       51233 non-null  float64       \n",
      " 14  Engine.Type             51233 non-null  object        \n",
      " 15  Purpose.of.flight       46383 non-null  object        \n",
      " 16  Total.Fatal.Injuries    51233 non-null  float64       \n",
      " 17  Total.Serious.Injuries  51233 non-null  float64       \n",
      " 18  Total.Minor.Injuries    51233 non-null  float64       \n",
      " 19  Total.Uninjured         51233 non-null  float64       \n",
      " 20  Weather.Condition       50452 non-null  object        \n",
      " 21  Broad.phase.of.flight   39072 non-null  object        \n",
      " 22  Report.Status           50555 non-null  object        \n",
      " 23  Publication.Date        51233 non-null  object        \n",
      " 24  Report_Date             51233 non-null  datetime64[ns]\n",
      " 25  N_passenger             51233 non-null  float64       \n",
      " 26  S_njur_frac             51233 non-null  float64       \n",
      " 27  Ap_destroyed            51233 non-null  int32         \n",
      " 28  make_model              51233 non-null  object        \n",
      "dtypes: datetime64[ns](1), float64(7), int32(1), object(20)\n",
      "memory usage: 11.5+ MB\n"
     ]
    }
   ],
   "source": [
    "airplane_df = airplane_df.drop(columns = ['FAR.Description', 'Air.carrier', 'Schedule', 'Latitude', 'Longitude', 'Airport.Code', 'Airport.Name'])\n",
    "airplane_df.info()"
   ]
  },
  {
   "cell_type": "markdown",
   "id": "750d48f1",
   "metadata": {},
   "source": [
    "### Save DataFrame to csv\n",
    "- its generally useful to save data to file/server after its in a sufficiently cleaned or intermediate state\n",
    "- the data can then be loaded directly in another notebook for further analysis\n",
    "- this helps keep your notebooks and workflow readable, clean and modularized"
   ]
  },
  {
   "cell_type": "code",
   "execution_count": 382,
   "id": "b425a512",
   "metadata": {},
   "outputs": [],
   "source": [
    "airplane_df.to_csv('data/air_cleaned.csv', index = False)"
   ]
  }
 ],
 "metadata": {
  "kernelspec": {
   "display_name": "Python 3 (ipykernel)",
   "language": "python",
   "name": "python3"
  },
  "language_info": {
   "codemirror_mode": {
    "name": "ipython",
    "version": 3
   },
   "file_extension": ".py",
   "mimetype": "text/x-python",
   "name": "python",
   "nbconvert_exporter": "python",
   "pygments_lexer": "ipython3",
   "version": "3.12.4"
  }
 },
 "nbformat": 4,
 "nbformat_minor": 5
}
